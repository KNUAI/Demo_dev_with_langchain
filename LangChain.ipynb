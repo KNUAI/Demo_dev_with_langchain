{
  "nbformat": 4,
  "nbformat_minor": 0,
  "metadata": {
    "colab": {
      "provenance": [],
      "authorship_tag": "ABX9TyMugZxBb7G1CF0gM3xQP4Ex",
      "include_colab_link": true
    },
    "kernelspec": {
      "name": "python3",
      "display_name": "Python 3"
    },
    "language_info": {
      "name": "python"
    }
  },
  "cells": [
    {
      "cell_type": "markdown",
      "metadata": {
        "id": "view-in-github",
        "colab_type": "text"
      },
      "source": [
        "<a href=\"https://colab.research.google.com/github/jskim0406/Demo_dev_with_langchain/blob/main/LangChain.ipynb\" target=\"_parent\"><img src=\"https://colab.research.google.com/assets/colab-badge.svg\" alt=\"Open In Colab\"/></a>"
      ]
    },
    {
      "cell_type": "markdown",
      "source": [
        "requirements"
      ],
      "metadata": {
        "id": "QygLYeOk-F2k"
      }
    },
    {
      "cell_type": "code",
      "source": [
        "!pip install langchain\n",
        "!pip install transformers\n",
        "!pip install einops  # mpt 모델 다운로드에 필요\n",
        "!pip install chromadb  # vector 검색을 위한 DB"
      ],
      "metadata": {
        "id": "BeHn4rC6SZKs"
      },
      "execution_count": null,
      "outputs": []
    },
    {
      "cell_type": "markdown",
      "source": [
        "src_data"
      ],
      "metadata": {
        "id": "Z-O0psL6-aE1"
      }
    },
    {
      "cell_type": "code",
      "source": [
        "from langchain.docstore.document import Document\n",
        "text = \"example sentences\"\n",
        "docs = [Document(page_content=text)]"
      ],
      "metadata": {
        "id": "Sv3pfELFSQ0t"
      },
      "execution_count": null,
      "outputs": []
    },
    {
      "cell_type": "markdown",
      "source": [
        "summarize"
      ],
      "metadata": {
        "id": "0cNj-q1m-KvF"
      }
    },
    {
      "cell_type": "code",
      "source": [
        "from langchain.llms import HuggingFacePipeline\n",
        "from transformers import AutoModelForCausalLM, AutoTokenizer, pipeline\n",
        "\n",
        "from langchain.chains.summarize import load_summarize_chain\n",
        "\n",
        "model_id = \"mosaicml/mpt-7b-instruct\"\n",
        "hf_tokenizer = AutoTokenizer.from_pretrained(model_id)\n",
        "hf_model = AutoModelForCausalLM.from_pretrained(model_id, trust_remote_code=True)\n",
        "pipe = pipeline(\"text-generation\", model=hf_model, tokenizer=hf_tokenizer, max_new_tokens=10)\n",
        "llm = HuggingFacePipeline(pipeline=pipe)\n",
        "\n",
        "chain = load_summarize_chain(llm=llm, chain_type=\"map_reduce\")\n",
        "chain.run(docs)"
      ],
      "metadata": {
        "id": "ajg1v_rlSgQw"
      },
      "execution_count": null,
      "outputs": []
    },
    {
      "cell_type": "markdown",
      "source": [
        "QA"
      ],
      "metadata": {
        "id": "pJE4r148_Jqa"
      }
    },
    {
      "cell_type": "code",
      "source": [
        "from langchain.embeddings import HuggingFaceEmbeddings\n",
        "\n",
        "from langchain.indexes import VectorstoreIndexCreator\n",
        "\n",
        "model_name = \"sentence-transformers/all-mpnet-base-v2\"\n",
        "model_kwargs = {'device': 'cpu'}\n",
        "emb = HuggingFaceEmbeddings(model_name=model_name, model_kwargs=model_kwargs)\n",
        "\n",
        "index = VectorstoreIndexCreator(embedding=emb).from_documents(docs)\n",
        "query = \"example qeustion\"\n",
        "index.query(query, llm=llm)"
      ],
      "metadata": {
        "id": "XLEglpVzvb4b"
      },
      "execution_count": null,
      "outputs": []
    }
  ]
}